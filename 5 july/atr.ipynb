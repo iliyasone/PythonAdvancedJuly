{
 "cells": [
  {
   "cell_type": "code",
   "execution_count": null,
   "metadata": {},
   "outputs": [],
   "source": [
    "def nice_to_meet_you():\n",
    "    return \"nice to meet you too!\""
   ]
  },
  {
   "cell_type": "code",
   "execution_count": null,
   "metadata": {},
   "outputs": [],
   "source": [
    "nice_to_meet_you.hello: list = [1, 2, 3]"
   ]
  },
  {
   "cell_type": "code",
   "execution_count": null,
   "metadata": {},
   "outputs": [],
   "source": [
    "nice_to_meet_you.hello.__annotations__"
   ]
  },
  {
   "cell_type": "code",
   "execution_count": 40,
   "metadata": {},
   "outputs": [],
   "source": [
    "import random"
   ]
  },
  {
   "cell_type": "code",
   "execution_count": 42,
   "metadata": {},
   "outputs": [],
   "source": [
    "class Human:\n",
    "    \"\"\"Наш первый класс!\"\"\"\n",
    "    genom_count = 46\n",
    "\n",
    "    def __init__(self, name: str, age: int, description: str) -> None:\n",
    "        self.age = age\n",
    "        self.name = name\n",
    "        self.description = description\n",
    "        \n",
    "    def show_description(self):\n",
    "        print(f'{self.name} {self.description}, {self.age} years old')\n",
    "        \n",
    "    @classmethod\n",
    "    def get_genom_count(cls):\n",
    "        return cls.genom_count\n",
    "    \n",
    "    @classmethod\n",
    "    def set_genom_count(cls, count: int):\n",
    "        # \n",
    "        cls.genom_count = count\n",
    "        \n",
    "    @staticmethod\n",
    "    def choice_name():\n",
    "        return random.choice((\"Ilias\", \"Ruslan\", \"Maxim\", \"Sveta\"))"
   ]
  },
  {
   "cell_type": "code",
   "execution_count": 43,
   "metadata": {},
   "outputs": [],
   "source": [
    "human = Human(\"Ильяс\", 19, \"Крутой\")"
   ]
  }
 ],
 "metadata": {
  "kernelspec": {
   "display_name": "venv",
   "language": "python",
   "name": "python3"
  },
  "language_info": {
   "codemirror_mode": {
    "name": "ipython",
    "version": 3
   },
   "file_extension": ".py",
   "mimetype": "text/x-python",
   "name": "python",
   "nbconvert_exporter": "python",
   "pygments_lexer": "ipython3",
   "version": "3.10.8"
  },
  "orig_nbformat": 4
 },
 "nbformat": 4,
 "nbformat_minor": 2
}
