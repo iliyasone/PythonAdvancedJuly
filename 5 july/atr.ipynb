{
 "cells": [
  {
   "cell_type": "code",
   "execution_count": null,
   "metadata": {},
   "outputs": [],
   "source": [
    "def nice_to_meet_you():\n",
    "    return \"nice to meet you too!\""
   ]
  },
  {
   "cell_type": "code",
   "execution_count": null,
   "metadata": {},
   "outputs": [],
   "source": [
    "nice_to_meet_you.hello: list = [1, 2, 3]"
   ]
  },
  {
   "cell_type": "code",
   "execution_count": null,
   "metadata": {},
   "outputs": [],
   "source": [
    "nice_to_meet_you.hello.__annotations__"
   ]
  },
  {
   "cell_type": "code",
   "execution_count": 40,
   "metadata": {},
   "outputs": [],
   "source": [
    "import random"
   ]
  },
  {
   "cell_type": "code",
   "execution_count": 42,
   "metadata": {},
   "outputs": [],
   "source": [
    "class Human:\n",
    "    \"\"\"Наш первый класс!\"\"\"\n",
    "    genom_count = 46\n",
    "\n",
    "    def __init__(self, name: str, age: int, description: str) -> None:\n",
    "        self.age = age\n",
    "        self.name = name\n",
    "        self.description = description\n",
    "        \n",
    "    def show_description(self):\n",
    "        print(f'{self.name} {self.description}, {self.age} years old')\n",
    "        \n",
    "    @classmethod\n",
    "    def get_genom_count(cls):\n",
    "        return cls.genom_count\n",
    "    \n",
    "    @classmethod\n",
    "    def set_genom_count(cls, count: int):\n",
    "        # \n",
    "        cls.genom_count = count\n",
    "        \n",
    "    @staticmethod\n",
    "    def choice_name():\n",
    "        return random.choice((\"Ilias\", \"Ruslan\", \"Maxim\", \"Sveta\"))"
   ]
  },
  {
   "cell_type": "code",
   "execution_count": 43,
   "metadata": {},
   "outputs": [],
   "source": [
    "human = Human(\"Ильяс\", 19, \"Крутой\")"
   ]
  },
  {
   "cell_type": "code",
   "execution_count": 63,
   "metadata": {},
   "outputs": [],
   "source": [
    "from typing import Iterable\n",
    "\n",
    "class Student:\n",
    "    BASE_SCOHALARSHIP = 17000\n",
    "    \n",
    "    def __init__(self, \n",
    "                 name: str, \n",
    "                 age: int, \n",
    "                 grades: Iterable[int]\n",
    "            ):\n",
    "        self.name = name\n",
    "        self.age = age\n",
    "        self.grades = list(grades)\n",
    "        \n",
    "    def calculate_schoralship(self) -> float:\n",
    "        return sum(self.grades) / len(self.grades) * self.BASE_SCOHALARSHIP\n",
    "    \n"
   ]
  },
  {
   "cell_type": "code",
   "execution_count": 64,
   "metadata": {},
   "outputs": [],
   "source": [
    "ruslan = Student(\"Ruslan\", 19, [5, 4, 4, 4, 5])"
   ]
  },
  {
   "cell_type": "code",
   "execution_count": 66,
   "metadata": {},
   "outputs": [
    {
     "name": "stdout",
     "output_type": "stream",
     "text": [
      "13600\n"
     ]
    },
    {
     "data": {
      "text/plain": [
       "Student(name=Ruslan, age=19, grades=[5, 4, 4, 4, 5])"
      ]
     },
     "execution_count": 66,
     "metadata": {},
     "output_type": "execute_result"
    }
   ],
   "source": [
    "from typing import Iterable\n",
    "\n",
    "class Student:\n",
    "    BASE_SCOHALARSHIP = 17000\n",
    "    \n",
    "    def __init__(self, \n",
    "                 name: str, \n",
    "                 age: int, \n",
    "                 grades: Iterable[int]\n",
    "            ):\n",
    "        self.name = name\n",
    "        self.age = age\n",
    "        self.grades = list(grades)\n",
    "        \n",
    "    def calculate_schoralship(self) -> float:\n",
    "        return round(((sum(self.grades) / len(self.grades) - 2) / 3) * self.BASE_SCOHALARSHIP)\n",
    "    \n",
    "    def add_grade(self, grade: int):\n",
    "        self.grades.append(grade)\n",
    "        \n",
    "    def clear_grades(self):\n",
    "        self.grades.clear()\n",
    "        \n",
    "    def __eq__(self, __value: object) -> bool:\n",
    "        print(\"Method __eq__ called\")\n",
    "        return True\n",
    "    \n",
    "    def __repr__(self) -> str:\n",
    "        return f'Student(name={self.name}, age={self.age}, grades={self.grades})'\n",
    "\n",
    "    def __str__(self) -> str:\n",
    "        return f'{self.name}, {self.age}, {self.grades}'\n",
    "ruslan = Student(\"Ruslan\", 19, [5, 4, 4, 4, 5])\n",
    "\n",
    "print(ruslan.calculate_schoralship())\n",
    "ruslan\n"
   ]
  }
 ],
 "metadata": {
  "kernelspec": {
   "display_name": "venv",
   "language": "python",
   "name": "python3"
  },
  "language_info": {
   "codemirror_mode": {
    "name": "ipython",
    "version": 3
   },
   "file_extension": ".py",
   "mimetype": "text/x-python",
   "name": "python",
   "nbconvert_exporter": "python",
   "pygments_lexer": "ipython3",
   "version": "3.10.8"
  },
  "orig_nbformat": 4
 },
 "nbformat": 4,
 "nbformat_minor": 2
}
