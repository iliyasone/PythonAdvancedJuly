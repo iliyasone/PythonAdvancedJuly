{
 "cells": [
  {
   "cell_type": "code",
   "execution_count": 9,
   "metadata": {},
   "outputs": [],
   "source": [
    "def function_power_father(exp: int):\n",
    "    def custom_power(x):\n",
    "        return x**exp\n",
    "    return custom_power"
   ]
  },
  {
   "cell_type": "code",
   "execution_count": null,
   "metadata": {},
   "outputs": [],
   "source": [
    "super_function = function_power_father(5)\n",
    "loh_function = function_power_father(4)"
   ]
  },
  {
   "cell_type": "code",
   "execution_count": null,
   "metadata": {},
   "outputs": [],
   "source": [
    "def area_calculator(shape: str):\n",
    "    def rectangle_area(a, b):\n",
    "        return a*b\n",
    "    def triangle_area(a, h):\n",
    "        return a*h/2\n",
    "    \n",
    "    if shape == 'rectangle':\n",
    "        return rectangle_area\n",
    "    if shape == 'triangle':\n",
    "        return triangle_area"
   ]
  },
  {
   "cell_type": "code",
   "execution_count": null,
   "metadata": {},
   "outputs": [],
   "source": []
  }
 ],
 "metadata": {
  "kernelspec": {
   "display_name": ".venv",
   "language": "python",
   "name": "python3"
  },
  "language_info": {
   "codemirror_mode": {
    "name": "ipython",
    "version": 3
   },
   "file_extension": ".py",
   "mimetype": "text/x-python",
   "name": "python",
   "nbconvert_exporter": "python",
   "pygments_lexer": "ipython3",
   "version": "3.10.8"
  },
  "orig_nbformat": 4
 },
 "nbformat": 4,
 "nbformat_minor": 2
}
