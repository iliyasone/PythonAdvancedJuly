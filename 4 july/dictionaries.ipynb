{
 "cells": [
  {
   "cell_type": "code",
   "execution_count": 14,
   "metadata": {},
   "outputs": [],
   "source": [
    "text = \"Всем привет я я я я привет всем на тебе\""
   ]
  },
  {
   "cell_type": "code",
   "execution_count": 21,
   "metadata": {},
   "outputs": [
    {
     "name": "stdout",
     "output_type": "stream",
     "text": [
      "всем 2\n",
      "привет 2\n",
      "я 4\n",
      "на 1\n",
      "тебе 1\n"
     ]
    }
   ],
   "source": [
    "text = input()\n",
    "\n",
    "dictionary = {}\n",
    "\n",
    "for word in text.split():\n",
    "    word = word.lower()\n",
    "    if word in dictionary:\n",
    "        dictionary[word] += 1\n",
    "    else:\n",
    "        dictionary[word] = 1\n",
    "\n",
    "for word, count in dictionary.items():\n",
    "    print(word, count)"
   ]
  },
  {
   "cell_type": "code",
   "execution_count": 19,
   "metadata": {},
   "outputs": [
    {
     "name": "stdout",
     "output_type": "stream",
     "text": [
      "1 1s\n",
      "2 2s\n",
      "3 3s\n",
      "4 4s\n"
     ]
    }
   ],
   "source": [
    "for a, b in ((1,'1s'), (2,'2s'), (3,'3s'), (4,'4s')):\n",
    "    print(a,b)"
   ]
  }
 ],
 "metadata": {
  "kernelspec": {
   "display_name": "venv",
   "language": "python",
   "name": "python3"
  },
  "language_info": {
   "codemirror_mode": {
    "name": "ipython",
    "version": 3
   },
   "file_extension": ".py",
   "mimetype": "text/x-python",
   "name": "python",
   "nbconvert_exporter": "python",
   "pygments_lexer": "ipython3",
   "version": "3.10.8"
  },
  "orig_nbformat": 4
 },
 "nbformat": 4,
 "nbformat_minor": 2
}
