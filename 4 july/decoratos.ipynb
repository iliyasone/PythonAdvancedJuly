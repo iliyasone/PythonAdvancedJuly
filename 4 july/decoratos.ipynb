{
 "cells": [
  {
   "cell_type": "code",
   "execution_count": 1,
   "metadata": {},
   "outputs": [],
   "source": [
    "import random"
   ]
  },
  {
   "cell_type": "code",
   "execution_count": 3,
   "metadata": {},
   "outputs": [],
   "source": [
    "def greetings_generator():\n",
    "    r = random.randint(0,2)\n",
    "\n",
    "    def good_morning():\n",
    "        print(\"Good morning!\")\n",
    "        \n",
    "    def good_day():\n",
    "        print(\"Good day!\")\n",
    "        \n",
    "    def good_night():\n",
    "        print(\"Good evening!\")\n",
    "    \n",
    "    if r == 0:\n",
    "        return good_morning\n",
    "    if r == 1:\n",
    "        return good_day\n",
    "    if r== 2:\n",
    "        return good_night"
   ]
  },
  {
   "cell_type": "code",
   "execution_count": 4,
   "metadata": {},
   "outputs": [],
   "source": [
    "greet = greetings_generator()"
   ]
  },
  {
   "cell_type": "code",
   "execution_count": 8,
   "metadata": {},
   "outputs": [
    {
     "name": "stdout",
     "output_type": "stream",
     "text": [
      "Good day!\n"
     ]
    }
   ],
   "source": [
    "greet()"
   ]
  }
 ],
 "metadata": {
  "kernelspec": {
   "display_name": "venv",
   "language": "python",
   "name": "python3"
  },
  "language_info": {
   "codemirror_mode": {
    "name": "ipython",
    "version": 3
   },
   "file_extension": ".py",
   "mimetype": "text/x-python",
   "name": "python",
   "nbconvert_exporter": "python",
   "pygments_lexer": "ipython3",
   "version": "3.10.8"
  },
  "orig_nbformat": 4
 },
 "nbformat": 4,
 "nbformat_minor": 2
}
