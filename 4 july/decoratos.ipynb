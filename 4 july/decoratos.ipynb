{
 "cells": [
  {
   "cell_type": "code",
   "execution_count": 30,
   "metadata": {},
   "outputs": [],
   "source": [
    "import random\n",
    "import time"
   ]
  },
  {
   "cell_type": "code",
   "execution_count": null,
   "metadata": {},
   "outputs": [],
   "source": [
    "def greetings_generator():\n",
    "    r = random.randint(0,2)\n",
    "\n",
    "    def good_morning():\n",
    "        print(\"Good morning!\")\n",
    "        \n",
    "    def good_day():\n",
    "        print(\"Good day!\")\n",
    "        \n",
    "    def good_night():\n",
    "        print(\"Good evening!\")\n",
    "    \n",
    "    if r == 0:\n",
    "        return good_morning\n",
    "    if r == 1:\n",
    "        return good_day\n",
    "    if r== 2:\n",
    "        return good_night"
   ]
  },
  {
   "cell_type": "code",
   "execution_count": null,
   "metadata": {},
   "outputs": [],
   "source": [
    "greet = greetings_generator()"
   ]
  },
  {
   "cell_type": "code",
   "execution_count": null,
   "metadata": {},
   "outputs": [],
   "source": [
    "greet()"
   ]
  },
  {
   "cell_type": "code",
   "execution_count": 35,
   "metadata": {},
   "outputs": [],
   "source": []
  },
  {
   "cell_type": "code",
   "execution_count": 36,
   "metadata": {},
   "outputs": [],
   "source": [
    "def hard_computation_function():\n",
    "    time.sleep(3)\n",
    "    print('function done!')\n",
    "\n",
    "def decorator(func): \n",
    "    def wrapper():\n",
    "        print(f'{func.__name__} start running')\n",
    "        func()\n",
    "        print(f'{func.__name__} stop running')\n",
    "        \n",
    "    return wrapper\n",
    "\n",
    "hard_computation_function = decorator(hard_computation_function)\n",
    "\n",
    "hard_computation_function()"
   ]
  },
  {
   "cell_type": "code",
   "execution_count": 37,
   "metadata": {},
   "outputs": [],
   "source": []
  },
  {
   "cell_type": "code",
   "execution_count": 10,
   "metadata": {},
   "outputs": [],
   "source": [
    "def params_example(*params, **kwargs):\n",
    "    print(f'{params=}')\n",
    "    print(f'{kwargs=}')"
   ]
  },
  {
   "cell_type": "code",
   "execution_count": 11,
   "metadata": {},
   "outputs": [
    {
     "name": "stdout",
     "output_type": "stream",
     "text": [
      "params=()\n",
      "kwargs={}\n"
     ]
    }
   ],
   "source": [
    "params_example()"
   ]
  }
 ],
 "metadata": {
  "kernelspec": {
   "display_name": "venv",
   "language": "python",
   "name": "python3"
  },
  "language_info": {
   "codemirror_mode": {
    "name": "ipython",
    "version": 3
   },
   "file_extension": ".py",
   "mimetype": "text/x-python",
   "name": "python",
   "nbconvert_exporter": "python",
   "pygments_lexer": "ipython3",
   "version": "3.10.8"
  },
  "orig_nbformat": 4
 },
 "nbformat": 4,
 "nbformat_minor": 2
}
