{
 "cells": [
  {
   "cell_type": "code",
   "execution_count": null,
   "metadata": {},
   "outputs": [],
   "source": [
    "import requests\n",
    "\n",
    "url = 'https://api.thecatapi.com/v1/images/search?limit=10'"
   ]
  },
  {
   "cell_type": "code",
   "execution_count": null,
   "metadata": {},
   "outputs": [],
   "source": [
    "response = eval(requests.get(url).text)"
   ]
  },
  {
   "cell_type": "code",
   "execution_count": 20,
   "metadata": {},
   "outputs": [
    {
     "name": "stdout",
     "output_type": "stream",
     "text": [
      "10\n"
     ]
    }
   ],
   "source": [
    "response = requests.get(url).json()\n",
    "print(len(response))"
   ]
  },
  {
   "cell_type": "code",
   "execution_count": 21,
   "metadata": {},
   "outputs": [],
   "source": [
    "url_cats = []\n",
    "for line in response:\n",
    "    url_cats.append(line['url'])"
   ]
  },
  {
   "cell_type": "code",
   "execution_count": 22,
   "metadata": {},
   "outputs": [
    {
     "data": {
      "text/plain": [
       "['https://cdn2.thecatapi.com/images/2o2.jpg',\n",
       " 'https://cdn2.thecatapi.com/images/3ql.jpg',\n",
       " 'https://cdn2.thecatapi.com/images/776.jpg',\n",
       " 'https://cdn2.thecatapi.com/images/7h6.gif',\n",
       " 'https://cdn2.thecatapi.com/images/a27.jpg',\n",
       " 'https://cdn2.thecatapi.com/images/ara.jpg',\n",
       " 'https://cdn2.thecatapi.com/images/bvj.jpg',\n",
       " 'https://cdn2.thecatapi.com/images/c8j.jpg',\n",
       " 'https://cdn2.thecatapi.com/images/d3b.jpg',\n",
       " 'https://cdn2.thecatapi.com/images/MTY3MTcwMg.jpg']"
      ]
     },
     "execution_count": 22,
     "metadata": {},
     "output_type": "execute_result"
    }
   ],
   "source": [
    "url_cats"
   ]
  },
  {
   "cell_type": "code",
   "execution_count": 23,
   "metadata": {},
   "outputs": [],
   "source": [
    "for i in range(10):\n",
    "    file = open(f'cat{i}.jpg', 'wb')\n",
    "    file.write(\n",
    "        requests.get(url_cats[i]).content\n",
    "        )\n",
    "    file.close()"
   ]
  },
  {
   "cell_type": "code",
   "execution_count": null,
   "metadata": {},
   "outputs": [],
   "source": [
    "f'Привет {10/2+51} привет'"
   ]
  }
 ],
 "metadata": {
  "kernelspec": {
   "display_name": "venv",
   "language": "python",
   "name": "python3"
  },
  "language_info": {
   "codemirror_mode": {
    "name": "ipython",
    "version": 3
   },
   "file_extension": ".py",
   "mimetype": "text/x-python",
   "name": "python",
   "nbconvert_exporter": "python",
   "pygments_lexer": "ipython3",
   "version": "3.10.8"
  },
  "orig_nbformat": 4
 },
 "nbformat": 4,
 "nbformat_minor": 2
}
